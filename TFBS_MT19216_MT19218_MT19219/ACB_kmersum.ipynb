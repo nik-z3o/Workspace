{
 "cells": [
  {
   "cell_type": "code",
   "execution_count": 6,
   "metadata": {},
   "outputs": [],
   "source": [
    "import itertools\n",
    "import numpy as np\n",
    "import pandas as pd\n",
    "import scipy.stats as stats\n",
    "import matplotlib.pyplot as plt\n",
    "import math"
   ]
  },
  {
   "cell_type": "markdown",
   "metadata": {},
   "source": [
    "# PROBLEM:\n",
    "\n",
    "<br/>\n",
    "\n",
    "<b> Probability based motif finding is not accurate as it does not take into consideration other factors leading false positive motfs.\n",
    "    \n",
    "Incorporating binding energies makes TFBS finding more accurate.\n",
    "<br/>\n",
    "<br/>\n",
    "\n",
    "<u>REFERENCES</u>:</b>\n",
    "\n",
    "An efficient algorithm for improving structure-based prediction of transcription factor binding sites[KMERSUM]:-\n",
    "\n",
    "https://bmcbioinformatics.biomedcentral.com/articles/10.1186/s12859-017-1755-0/figures/3\n",
    "\n",
    "\n",
    "TFBS Models:\n",
    "Reference - https://doi.org/10.1016/j.molp.2018.10.010\n",
    "\n",
    "<br/>\n",
    "<br/>\n",
    "<center>KMERSUM ALGO</center>\n",
    "<img src=\"ALGO.png\">"
   ]
  },
  {
   "cell_type": "markdown",
   "metadata": {},
   "source": [
    "# DATA\n",
    "\n",
    "Getting energy table for interaction between all AA and Nucleotide bases by using AMINO ACID–NUCLEOTIDE INTERACTION ANALYSIS TOOL:-\n",
    "\n",
    "https://academic.oup.com/nar/article/45/W1/W388/3787858#90594982\n",
    "\n",
    "To test the algo we select the protein motif:\n",
    "\n",
    "cAMP responsive element binding protein 1[CREB1] bZIP famility motif : VTKACGTMA \n",
    "\n",
    "http://humantfs.ccbr.utoronto.ca/myTFPageUniversal.php?eID=ENSG00000118260\n",
    "http://humantfs.ccbr.utoronto.ca/myTFPageUniversal.php?eID=ENSG00000118260"
   ]
  },
  {
   "cell_type": "code",
   "execution_count": 7,
   "metadata": {},
   "outputs": [
    {
     "data": {
      "text/html": [
       "<div>\n",
       "<style scoped>\n",
       "    .dataframe tbody tr th:only-of-type {\n",
       "        vertical-align: middle;\n",
       "    }\n",
       "\n",
       "    .dataframe tbody tr th {\n",
       "        vertical-align: top;\n",
       "    }\n",
       "\n",
       "    .dataframe thead th {\n",
       "        text-align: right;\n",
       "    }\n",
       "</style>\n",
       "<table border=\"1\" class=\"dataframe\">\n",
       "  <thead>\n",
       "    <tr style=\"text-align: right;\">\n",
       "      <th></th>\n",
       "      <th>A</th>\n",
       "      <th>C</th>\n",
       "      <th>D</th>\n",
       "      <th>E</th>\n",
       "      <th>F</th>\n",
       "      <th>G</th>\n",
       "      <th>H</th>\n",
       "      <th>I</th>\n",
       "      <th>K</th>\n",
       "      <th>L</th>\n",
       "      <th>M</th>\n",
       "      <th>N</th>\n",
       "      <th>P</th>\n",
       "      <th>Q</th>\n",
       "      <th>R</th>\n",
       "      <th>S</th>\n",
       "      <th>T</th>\n",
       "      <th>V</th>\n",
       "      <th>W</th>\n",
       "      <th>Y</th>\n",
       "    </tr>\n",
       "  </thead>\n",
       "  <tbody>\n",
       "    <tr>\n",
       "      <th>0</th>\n",
       "      <td>3.6</td>\n",
       "      <td>7.2</td>\n",
       "      <td>24.4</td>\n",
       "      <td>15.1</td>\n",
       "      <td>8.6</td>\n",
       "      <td>3.5</td>\n",
       "      <td>7.5</td>\n",
       "      <td>2.9</td>\n",
       "      <td>23.9</td>\n",
       "      <td>5.4</td>\n",
       "      <td>3.7</td>\n",
       "      <td>2.8</td>\n",
       "      <td>7.0</td>\n",
       "      <td>-0.2</td>\n",
       "      <td>20.2</td>\n",
       "      <td>1.3</td>\n",
       "      <td>6.7</td>\n",
       "      <td>5.0</td>\n",
       "      <td>9.2</td>\n",
       "      <td>2.6</td>\n",
       "    </tr>\n",
       "    <tr>\n",
       "      <th>1</th>\n",
       "      <td>3.4</td>\n",
       "      <td>7.4</td>\n",
       "      <td>80.5</td>\n",
       "      <td>92.5</td>\n",
       "      <td>4.3</td>\n",
       "      <td>2.9</td>\n",
       "      <td>5.6</td>\n",
       "      <td>2.9</td>\n",
       "      <td>-13.8</td>\n",
       "      <td>6.2</td>\n",
       "      <td>8.3</td>\n",
       "      <td>4.3</td>\n",
       "      <td>7.0</td>\n",
       "      <td>2.0</td>\n",
       "      <td>-11.8</td>\n",
       "      <td>0.7</td>\n",
       "      <td>3.4</td>\n",
       "      <td>5.6</td>\n",
       "      <td>7.8</td>\n",
       "      <td>4.0</td>\n",
       "    </tr>\n",
       "    <tr>\n",
       "      <th>2</th>\n",
       "      <td>5.8</td>\n",
       "      <td>4.5</td>\n",
       "      <td>65.2</td>\n",
       "      <td>-1.4</td>\n",
       "      <td>13.6</td>\n",
       "      <td>4.3</td>\n",
       "      <td>3.2</td>\n",
       "      <td>5.1</td>\n",
       "      <td>133.3</td>\n",
       "      <td>4.0</td>\n",
       "      <td>7.2</td>\n",
       "      <td>-5.1</td>\n",
       "      <td>7.9</td>\n",
       "      <td>-0.3</td>\n",
       "      <td>129.7</td>\n",
       "      <td>-0.3</td>\n",
       "      <td>7.1</td>\n",
       "      <td>4.4</td>\n",
       "      <td>9.6</td>\n",
       "      <td>6.8</td>\n",
       "    </tr>\n",
       "    <tr>\n",
       "      <th>3</th>\n",
       "      <td>3.3</td>\n",
       "      <td>4.5</td>\n",
       "      <td>9.5</td>\n",
       "      <td>14.6</td>\n",
       "      <td>8.7</td>\n",
       "      <td>2.6</td>\n",
       "      <td>6.5</td>\n",
       "      <td>5.0</td>\n",
       "      <td>42.1</td>\n",
       "      <td>4.9</td>\n",
       "      <td>7.6</td>\n",
       "      <td>0.8</td>\n",
       "      <td>7.6</td>\n",
       "      <td>7.4</td>\n",
       "      <td>29.5</td>\n",
       "      <td>0.3</td>\n",
       "      <td>4.7</td>\n",
       "      <td>3.3</td>\n",
       "      <td>9.5</td>\n",
       "      <td>9.5</td>\n",
       "    </tr>\n",
       "  </tbody>\n",
       "</table>\n",
       "</div>"
      ],
      "text/plain": [
       "     A    C     D     E     F    G    H    I      K    L    M    N    P    Q  \\\n",
       "0  3.6  7.2  24.4  15.1   8.6  3.5  7.5  2.9   23.9  5.4  3.7  2.8  7.0 -0.2   \n",
       "1  3.4  7.4  80.5  92.5   4.3  2.9  5.6  2.9  -13.8  6.2  8.3  4.3  7.0  2.0   \n",
       "2  5.8  4.5  65.2  -1.4  13.6  4.3  3.2  5.1  133.3  4.0  7.2 -5.1  7.9 -0.3   \n",
       "3  3.3  4.5   9.5  14.6   8.7  2.6  6.5  5.0   42.1  4.9  7.6  0.8  7.6  7.4   \n",
       "\n",
       "       R    S    T    V    W    Y  \n",
       "0   20.2  1.3  6.7  5.0  9.2  2.6  \n",
       "1  -11.8  0.7  3.4  5.6  7.8  4.0  \n",
       "2  129.7 -0.3  7.1  4.4  9.6  6.8  \n",
       "3   29.5  0.3  4.7  3.3  9.5  9.5  "
      ]
     },
     "execution_count": 7,
     "metadata": {},
     "output_type": "execute_result"
    }
   ],
   "source": [
    "\"\"\"Table made for the interaction energies of AA and Nucleotide bases by using AMINO ACID–NUCLEOTIDE INTERACTION ANALYSIS TOOL \"\"\"\n",
    "pd.read_csv(\"ACB_energy_aa_nucleotide1.csv\")"
   ]
  },
  {
   "cell_type": "markdown",
   "metadata": {},
   "source": [
    "# complexity\n",
    "\n",
    "It is a Big(O) of n^3"
   ]
  },
  {
   "cell_type": "code",
   "execution_count": 8,
   "metadata": {},
   "outputs": [],
   "source": [
    "# genrating a list 5mers that are requeired in kmersum\n",
    "\n",
    "permutations = [\"\".join(list(_))for _ in itertools.product('ACGT', repeat = 9)]\n",
    "\n",
    "all_fivemers=[]\n",
    "for ninemer in permutations:\n",
    "    fivemers = [ninemer[i:i+5] for i in range(5)]\n",
    "    all_fivemers.append(fivemers)"
   ]
  },
  {
   "cell_type": "code",
   "execution_count": 9,
   "metadata": {},
   "outputs": [
    {
     "data": {
      "text/html": [
       "<div>\n",
       "<style scoped>\n",
       "    .dataframe tbody tr th:only-of-type {\n",
       "        vertical-align: middle;\n",
       "    }\n",
       "\n",
       "    .dataframe tbody tr th {\n",
       "        vertical-align: top;\n",
       "    }\n",
       "\n",
       "    .dataframe thead th {\n",
       "        text-align: right;\n",
       "    }\n",
       "</style>\n",
       "<table border=\"1\" class=\"dataframe\">\n",
       "  <thead>\n",
       "    <tr style=\"text-align: right;\">\n",
       "      <th></th>\n",
       "      <th>0</th>\n",
       "      <th>1</th>\n",
       "      <th>2</th>\n",
       "      <th>3</th>\n",
       "      <th>4</th>\n",
       "      <th>5</th>\n",
       "      <th>6</th>\n",
       "      <th>7</th>\n",
       "      <th>8</th>\n",
       "    </tr>\n",
       "  </thead>\n",
       "  <tbody>\n",
       "    <tr>\n",
       "      <th>0</th>\n",
       "      <td>5.0</td>\n",
       "      <td>23.9</td>\n",
       "      <td>23.9</td>\n",
       "      <td>3.6</td>\n",
       "      <td>7.2</td>\n",
       "      <td>3.5</td>\n",
       "      <td>6.7</td>\n",
       "      <td>3.7</td>\n",
       "      <td>3.6</td>\n",
       "    </tr>\n",
       "    <tr>\n",
       "      <th>1</th>\n",
       "      <td>5.6</td>\n",
       "      <td>-13.8</td>\n",
       "      <td>-13.8</td>\n",
       "      <td>3.4</td>\n",
       "      <td>7.4</td>\n",
       "      <td>2.9</td>\n",
       "      <td>3.4</td>\n",
       "      <td>8.3</td>\n",
       "      <td>3.4</td>\n",
       "    </tr>\n",
       "    <tr>\n",
       "      <th>2</th>\n",
       "      <td>4.4</td>\n",
       "      <td>133.3</td>\n",
       "      <td>133.3</td>\n",
       "      <td>5.8</td>\n",
       "      <td>4.5</td>\n",
       "      <td>4.3</td>\n",
       "      <td>7.1</td>\n",
       "      <td>7.2</td>\n",
       "      <td>5.8</td>\n",
       "    </tr>\n",
       "    <tr>\n",
       "      <th>3</th>\n",
       "      <td>3.3</td>\n",
       "      <td>42.1</td>\n",
       "      <td>42.1</td>\n",
       "      <td>3.3</td>\n",
       "      <td>4.5</td>\n",
       "      <td>2.6</td>\n",
       "      <td>4.7</td>\n",
       "      <td>7.6</td>\n",
       "      <td>3.3</td>\n",
       "    </tr>\n",
       "  </tbody>\n",
       "</table>\n",
       "</div>"
      ],
      "text/plain": [
       "     0      1      2    3    4    5    6    7    8\n",
       "0  5.0   23.9   23.9  3.6  7.2  3.5  6.7  3.7  3.6\n",
       "1  5.6  -13.8  -13.8  3.4  7.4  2.9  3.4  8.3  3.4\n",
       "2  4.4  133.3  133.3  5.8  4.5  4.3  7.1  7.2  5.8\n",
       "3  3.3   42.1   42.1  3.3  4.5  2.6  4.7  7.6  3.3"
      ]
     },
     "execution_count": 9,
     "metadata": {},
     "output_type": "execute_result"
    }
   ],
   "source": [
    "#making energy table for the provided protein motif\n",
    "motif_seq = 'VTKACGTMA '\n",
    "complete_energy_table=pd.read_csv(\"ACB_energy_aa_nucleotide1.csv\")\n",
    "energies = complete_energy_table.loc[:, [motif_seq[0],motif_seq[2],motif_seq[2],motif_seq[3],motif_seq[4],motif_seq[5],motif_seq[6],motif_seq[7],motif_seq[8]]]\n",
    "energies.to_csv(\"current_9mer_energy.csv\",sep=\",\",header=None,index=False)\n",
    "energies=pd.read_csv(\"current_9mer_energy.csv\",header=None)\n",
    "energies"
   ]
  },
  {
   "cell_type": "markdown",
   "metadata": {},
   "source": [
    "# Creating a distributed energy table for the 9mers"
   ]
  },
  {
   "cell_type": "code",
   "execution_count": 10,
   "metadata": {},
   "outputs": [],
   "source": [
    "#kmersum algo\n",
    "\n",
    "distributed_e = []\n",
    "for fivemers,ninemer in zip(all_fivemers,permutations):\n",
    "    total_e = 0\n",
    "    for idx_1, fivemer in enumerate(fivemers):\n",
    "        fivemer_e = 0\n",
    "        for idx_2, base in enumerate(fivemer):\n",
    "            if base == 'A':\n",
    "                fivemer_e += energies[idx_1+idx_2][0]\n",
    "            elif base == 'C':\n",
    "                fivemer_e += energies[idx_1+idx_2][1]\n",
    "            elif base == 'G':\n",
    "                fivemer_e += energies[idx_1+idx_2][2]\n",
    "            else :\n",
    "                fivemer_e += energies[idx_1+idx_2][3]\n",
    "        total_e += fivemer_e\n",
    "    distributed_e.append((ninemer,total_e))\n",
    "\n",
    "df = pd.DataFrame(\n",
    "    {\n",
    "    '9mer' : [x[0] for x in distributed_e],\n",
    "    'energy' : [x[1] for x in distributed_e]\n",
    "})"
   ]
  },
  {
   "cell_type": "markdown",
   "metadata": {},
   "source": [
    "# removing the seq which have lower energy than the 99%tile and removing the first 2 and the last 2 bases from the seq"
   ]
  },
  {
   "cell_type": "code",
   "execution_count": 11,
   "metadata": {},
   "outputs": [],
   "source": [
    "p = np.percentile(np.array(df['energy']),99)\n",
    "df_quardt_4 = df[df['energy'] >= p]\n",
    "sequences = [seq[2:-2] for seq in df_quardt_4['9mer']]"
   ]
  },
  {
   "cell_type": "code",
   "execution_count": 12,
   "metadata": {},
   "outputs": [
    {
     "data": {
      "text/plain": [
       "774.5000000000002"
      ]
     },
     "execution_count": 12,
     "metadata": {},
     "output_type": "execute_result"
    }
   ],
   "source": [
    "#cutoof energy for the 5mers\n",
    "p"
   ]
  },
  {
   "cell_type": "code",
   "execution_count": 13,
   "metadata": {
    "scrolled": true
   },
   "outputs": [
    {
     "name": "stdout",
     "output_type": "stream",
     "text": [
      "Frequency Matrix: \n",
      "[[   0  442 1176  770  969]\n",
      " [   0  369 1368  423  140]\n",
      " [2622 1480   39 1125 1163]\n",
      " [   0  331   39  304  350]]\n",
      "probablity Matrix: \n",
      "[[0.         0.16857361 0.44851259 0.29366895 0.36956522]\n",
      " [0.         0.14073227 0.52173913 0.16132723 0.05339436]\n",
      " [1.         0.56445461 0.01487414 0.42906178 0.44355454]\n",
      " [0.         0.12623951 0.01487414 0.11594203 0.13348589]]\n"
     ]
    }
   ],
   "source": [
    "#making frequency matrix and probability matrix\n",
    "\n",
    "def con_table_updater(string,table):\n",
    "    for index,base in enumerate(string):\n",
    "        if base == \"A\":\n",
    "            table[0][index] += 1\n",
    "        elif base == \"C\":\n",
    "            table[1][index] += 1\n",
    "        elif base == \"G\":\n",
    "            table[2][index] += 1\n",
    "        else:\n",
    "            table[3][index] += 1   \n",
    "            \n",
    "    \n",
    "cTable = [[0]*5 for _ in range(4)]\n",
    "    \n",
    "for seq in sequences:\n",
    "    con_table_updater(seq,cTable)\n",
    "    \n",
    "pfm = np.matrix(cTable)\n",
    "print(f\"Frequency Matrix: \\n{pfm}\")\n",
    "    \n",
    "ppm = np.divide(np.matrix(cTable),len(sequences))\n",
    "print(f\"probablity Matrix: \\n{ppm}\")\n",
    "\n",
    "pd.DataFrame(ppm).to_csv(\"matrix.txt\",sep=\"\\t\",header=None,index=False)"
   ]
  },
  {
   "cell_type": "markdown",
   "metadata": {},
   "source": [
    "# Producing Motif Logo using R package(seqLogo)\n",
    "\n",
    "#Using seqLogo to produce motif logo\n",
    "\n",
    "<img src=\"MOTIF LOGO.png\">"
   ]
  },
  {
   "cell_type": "markdown",
   "metadata": {},
   "source": [
    "# Conclusion\n",
    "\n",
    "\n",
    "<b> The Motif Logo found is similar to GC Box which is seen to regulate the binding of CREB1:</b>\n",
    "<br/><br/>\n",
    "Reference - http://www.jbc.org/content/276/9/6350.short\n",
    "\n",
    "We have used interactive energy to predict the binding sequence of the Trascription factor\n",
    "We intended to use integrative energy to further increase the accuracy of TFBS.\n",
    "Integrative energy takes into account the electrostatic energies and multibody potential of the DNA structure to predict the TFBS."
   ]
  },
  {
   "cell_type": "markdown",
   "metadata": {},
   "source": [
    "# Reproducibility\n",
    "We need a 9 amino acid long chain that determines its TFBS using this algorithm, of all the motifs we ran on this algorithm we could only confirm CREB1 TFBS."
   ]
  }
 ],
 "metadata": {
  "kernelspec": {
   "display_name": "Python 3",
   "language": "python",
   "name": "python3"
  },
  "language_info": {
   "codemirror_mode": {
    "name": "ipython",
    "version": 3
   },
   "file_extension": ".py",
   "mimetype": "text/x-python",
   "name": "python",
   "nbconvert_exporter": "python",
   "pygments_lexer": "ipython3",
   "version": "3.7.3"
  }
 },
 "nbformat": 4,
 "nbformat_minor": 2
}
